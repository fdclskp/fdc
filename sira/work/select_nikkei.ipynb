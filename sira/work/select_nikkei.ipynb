{
 "cells": [
  {
   "cell_type": "code",
   "execution_count": 2,
   "metadata": {},
   "outputs": [],
   "source": [
    "import glob\n",
    "import pandas as pd\n",
    "import numpy as np"
   ]
  },
  {
   "cell_type": "code",
   "execution_count": 2,
   "metadata": {},
   "outputs": [],
   "source": [
    "def main():\n",
    "    stock_path_list = glob.glob(\"./stock_indicator2018/daily/*\")\n",
    "    select_nikkei(stock_path_list)"
   ]
  },
  {
   "cell_type": "code",
   "execution_count": 3,
   "metadata": {},
   "outputs": [],
   "source": [
    "def select_nikkei(csv_path_list):\n",
    "    nikkei = pd.read_csv(\"./stock_indicator2018/stocklist.csv\")\n",
    "    nikkei_codes = nikkei[nikkei['日経225採用銘柄']==1]['銘柄コード']\n",
    "    print(len(nikkei_codes))\n",
    "    for csv_path in csv_path_list:\n",
    "        df = pd.read_csv(csv_path)\n",
    "        stock_code = df.stock_code[0]\n",
    "        if stock_code in nikkei_codes.values:\n",
    "            df.to_csv(f\"./stock_indicator2018/nikkei/{stock_code}.csv\", index=False)"
   ]
  },
  {
   "cell_type": "code",
   "execution_count": 4,
   "metadata": {},
   "outputs": [
    {
     "name": "stdout",
     "output_type": "stream",
     "text": [
      "225\n"
     ]
    }
   ],
   "source": [
    "if __name__ == '__main__':\n",
    "    main()"
   ]
  }
 ],
 "metadata": {
  "kernelspec": {
   "display_name": "Python 3",
   "language": "python",
   "name": "python3"
  },
  "language_info": {
   "codemirror_mode": {
    "name": "ipython",
    "version": 3
   },
   "file_extension": ".py",
   "mimetype": "text/x-python",
   "name": "python",
   "nbconvert_exporter": "python",
   "pygments_lexer": "ipython3",
   "version": "3.6.1"
  }
 },
 "nbformat": 4,
 "nbformat_minor": 2
}
