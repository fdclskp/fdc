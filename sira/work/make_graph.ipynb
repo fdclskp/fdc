{
 "cells": [
  {
   "cell_type": "code",
   "execution_count": 1,
   "metadata": {},
   "outputs": [],
   "source": [
    "import os\n",
    "import glob\n",
    "from multiprocessing import Pool\n",
    "import pandas as pd\n",
    "import numpy as np"
   ]
  },
  {
   "cell_type": "code",
   "execution_count": 5,
   "metadata": {},
   "outputs": [],
   "source": [
    "stock_path_list = glob.glob(\"./stock_indicator2018/daily/*\")\n",
    "stock_df = import_file(stock_path_list)"
   ]
  },
  {
   "cell_type": "code",
   "execution_count": 2,
   "metadata": {
    "scrolled": true
   },
   "outputs": [
    {
     "ename": "NameError",
     "evalue": "name 'stock_df' is not defined",
     "output_type": "error",
     "traceback": [
      "\u001b[0;31m---------------------------------------------------------------------------\u001b[0m",
      "\u001b[0;31mNameError\u001b[0m                                 Traceback (most recent call last)",
      "\u001b[0;32m<ipython-input-2-8864c5a72450>\u001b[0m in \u001b[0;36m<module>\u001b[0;34m\u001b[0m\n\u001b[0;32m----> 1\u001b[0;31m \u001b[0mdaily_df\u001b[0m \u001b[0;34m=\u001b[0m \u001b[0mstock_df\u001b[0m\u001b[0;34m[\u001b[0m\u001b[0mstock_df\u001b[0m\u001b[0;34m.\u001b[0m\u001b[0mvalue_date\u001b[0m \u001b[0;34m==\u001b[0m \u001b[0;34m'2018-02-09'\u001b[0m\u001b[0;34m]\u001b[0m\u001b[0;34m.\u001b[0m\u001b[0mdrop\u001b[0m\u001b[0;34m(\u001b[0m\u001b[0;34m[\u001b[0m\u001b[0;34m'value_date'\u001b[0m\u001b[0;34m,\u001b[0m \u001b[0;34m'stock_code'\u001b[0m\u001b[0;34m,\u001b[0m \u001b[0;34m'open'\u001b[0m\u001b[0;34m,\u001b[0m \u001b[0;34m'close'\u001b[0m\u001b[0;34m,\u001b[0m \u001b[0;34m'HIGH'\u001b[0m\u001b[0;34m,\u001b[0m \u001b[0;34m'LOW'\u001b[0m\u001b[0;34m,\u001b[0m \u001b[0;34m'VOLUME'\u001b[0m\u001b[0;34m,\u001b[0m \u001b[0;34m'PSARBULL'\u001b[0m\u001b[0;34m,\u001b[0m \u001b[0;34m'PSARBEAR'\u001b[0m\u001b[0;34m]\u001b[0m\u001b[0;34m,\u001b[0m \u001b[0maxis\u001b[0m\u001b[0;34m=\u001b[0m\u001b[0;36m1\u001b[0m\u001b[0;34m)\u001b[0m\u001b[0;34m\u001b[0m\u001b[0m\n\u001b[0m\u001b[1;32m      2\u001b[0m \u001b[0mcoef\u001b[0m \u001b[0;34m=\u001b[0m \u001b[0mnp\u001b[0m\u001b[0;34m.\u001b[0m\u001b[0mcorrcoef\u001b[0m\u001b[0;34m(\u001b[0m\u001b[0mdaily_df\u001b[0m\u001b[0;34m.\u001b[0m\u001b[0miloc\u001b[0m\u001b[0;34m[\u001b[0m\u001b[0;36m99\u001b[0m\u001b[0;34m]\u001b[0m\u001b[0;34m,\u001b[0m \u001b[0mdaily_df\u001b[0m\u001b[0;34m.\u001b[0m\u001b[0miloc\u001b[0m\u001b[0;34m[\u001b[0m\u001b[0;36m8\u001b[0m\u001b[0;34m]\u001b[0m\u001b[0;34m)\u001b[0m\u001b[0;34m\u001b[0m\u001b[0m\n\u001b[1;32m      3\u001b[0m \u001b[0mprint\u001b[0m\u001b[0;34m(\u001b[0m\u001b[0mcoef\u001b[0m\u001b[0;34m)\u001b[0m\u001b[0;34m\u001b[0m\u001b[0m\n",
      "\u001b[0;31mNameError\u001b[0m: name 'stock_df' is not defined"
     ]
    }
   ],
   "source": [
    "daily_df = stock_df[stock_df.value_date == '2018-02-09'].drop(['value_date', 'stock_code', 'open', 'close', 'HIGH', 'LOW', 'VOLUME', 'PSARBULL', 'PSARBEAR'], axis=1)\n",
    "coef = np.corrcoef(daily_df.iloc[99], daily_df.iloc[8])\n",
    "print(coef)"
   ]
  },
  {
   "cell_type": "code",
   "execution_count": 2,
   "metadata": {},
   "outputs": [],
   "source": [
    "def main():\n",
    "    stock_path_list = glob.glob(\"./stock_indicator2018/daily/*\")\n",
    "    stock_df = import_file(stock_path_list)\n",
    "    make_graph(stock_df)"
   ]
  },
  {
   "cell_type": "code",
   "execution_count": 3,
   "metadata": {},
   "outputs": [],
   "source": [
    "def import_file(csv_path_list):\n",
    "    p = Pool(os.cpu_count())\n",
    "    df = pd.concat(p.map(multi_read, csv_path_list), axis=0)\n",
    "    p.close()\n",
    "    return df"
   ]
  },
  {
   "cell_type": "code",
   "execution_count": 4,
   "metadata": {},
   "outputs": [],
   "source": [
    "def multi_read(csv_path):\n",
    "    return pd.read_csv(csv_path)"
   ]
  },
  {
   "cell_type": "code",
   "execution_count": 1,
   "metadata": {},
   "outputs": [],
   "source": [
    "def make_graph(stock_df):\n",
    "    file_name = 'graph.gsp'\n",
    "    f = open(file_name, mode='w')\n",
    "    for date in stock_df.value_date.unique():\n",
    "        # TODO select indicator\n",
    "        daily_df = stock_df[stock_df.value_date == date].drop(\n",
    "            ['value_date', 'stock_code', 'open', 'close', 'HIGH', 'LOW', 'VOLUME', 'PSARBULL', 'PSARBEAR'], axis=1)\n",
    "        daily_coef = np.corrcoef(daily_df)\n",
    "        if not np.isnan(daily_coef).all():\n",
    "            # TODO make graph\n",
    "            f.write(f't # 0 {date}\\n')\n",
    "            for i, node in enumerate(stock_df.stock_code.unique()):\n",
    "                f.write(f'v {i} {node}\\n')\n",
    "            for i in range(len(daily_coef)):\n",
    "                for j in range(i+1, len(daily_coef)):\n",
    "                    if daily_coef[i][j] >= 0.7:\n",
    "                        f.write(f'e {i} {j} 0\\n')\n",
    "        f.write('\\n')"
   ]
  },
  {
   "cell_type": "code",
   "execution_count": null,
   "metadata": {},
   "outputs": [],
   "source": [
    "if __name__ == '__main__':\n",
    "    main()"
   ]
  }
 ],
 "metadata": {
  "kernelspec": {
   "display_name": "Python 3",
   "language": "python",
   "name": "python3"
  },
  "language_info": {
   "codemirror_mode": {
    "name": "ipython",
    "version": 3
   },
   "file_extension": ".py",
   "mimetype": "text/x-python",
   "name": "python",
   "nbconvert_exporter": "python",
   "pygments_lexer": "ipython3",
   "version": "3.6.1"
  }
 },
 "nbformat": 4,
 "nbformat_minor": 2
}
